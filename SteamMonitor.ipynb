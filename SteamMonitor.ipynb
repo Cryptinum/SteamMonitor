{
 "cells": [
  {
   "cell_type": "markdown",
   "id": "2aa6a2c7-622e-4c2e-a943-1c6a847c8cc5",
   "metadata": {},
   "source": [
    "# SteamMonitor\n",
    "Python script to monitor the status of a user.\n",
    "\n",
    "## Requirements\n",
    "- Python 3.x or higher. [Download](https://www.python.org/downloads/)\n",
    "- Jupyter if you want to use .ipynb version\n",
    "    ```bash\n",
    "    pip install jupyter\n",
    "    ```\n",
    "\n",
    "## Install\n",
    "1. Clone the repository by git\n",
    "    ```bash\n",
    "    git clone https://github.com/Cryptinum/SteamMonitor.git\n",
    "    ```\n",
    "\n",
    "2. Install requirements by pip\n",
    "    ```bash\n",
    "    pip install -r requirements.txt\n",
    "    ```\n",
    "\n",
    "## Run\n",
    "- Add python to environment variables (usually auto added after install Python). Run the line below in cmd in the script path.\n",
    "    ```bash\n",
    "    python SteamMonitor.py\n",
    "    ```\n",
    "\n",
    "## Configuration\n",
    "- Change `steamID` to the ID of a user you want to monitor, the status of the user should be public.\n",
    "- Change `period` to the time period you want to monitor, its unit is minute.\n",
    "\n",
    "## Note\n",
    "- There is also a .ipynb version for Jupyter user.\n",
    "- This script will create two logs, one is for save status for every minutes, another is for save status when the user status changes. Both logs are in .csv format.\n",
    "- Not recommended to change period less than 1, as it may lead to request failure.\n",
    "\n",
    "## Disclaimer\n",
    "- Only for educational purpose. Do not use it for illegal activities."
   ]
  },
  {
   "cell_type": "code",
   "execution_count": 17,
   "id": "0e4f5902-8344-4053-87fd-5e15760135b3",
   "metadata": {
    "execution": {
     "iopub.execute_input": "2023-12-09T14:38:20.130404Z",
     "iopub.status.busy": "2023-12-09T14:38:20.129402Z",
     "iopub.status.idle": "2023-12-09T14:38:20.139417Z",
     "shell.execute_reply": "2023-12-09T14:38:20.138454Z",
     "shell.execute_reply.started": "2023-12-09T14:38:20.130404Z"
    },
    "tags": []
   },
   "outputs": [],
   "source": [
    "import warnings, requests, time\n",
    "from bs4 import BeautifulSoup\n",
    "\n",
    "# import pandas as pd\n",
    "# import numpy as np\n",
    "from datetime import datetime\n",
    "\n",
    "# Global Settings\n",
    "# np.set_printoptions(suppress=True)\n",
    "warnings.filterwarnings(\"ignore\")  # Suppress warnings.\n",
    "# pd.options.display.max_rows = 10  # Display no more than 10 rows."
   ]
  },
  {
   "cell_type": "code",
   "execution_count": 19,
   "id": "f40fbf96-92b4-40dc-989f-8b4ca998a00d",
   "metadata": {
    "execution": {
     "iopub.execute_input": "2023-12-09T14:38:25.322199Z",
     "iopub.status.busy": "2023-12-09T14:38:25.321198Z",
     "iopub.status.idle": "2023-12-09T14:38:25.330199Z",
     "shell.execute_reply": "2023-12-09T14:38:25.328198Z",
     "shell.execute_reply.started": "2023-12-09T14:38:25.322199Z"
    }
   },
   "outputs": [],
   "source": [
    "def forteenDaysTotal(soup):\n",
    "    \"\"\"Total game time in last 14 days, 0 if fail to get element.\"\"\"\n",
    "    source = soup.find_all(\"div\", class_=\"recentgame_quicklinks recentgame_recentplaytime\")\n",
    "    return float(source[0].text.strip()[:-19]) if source else 0.0\n",
    "\n",
    "def statusNow(soup):\n",
    "    \"\"\"Current status.\"\"\"\n",
    "    return soup.find_all(\"div\", class_=\"profile_in_game_header\")[0].text.strip()\n",
    "\n",
    "def gameNow(soup):\n",
    "    \"\"\"Current game, empty string if fail to get element (no game playing).\"\"\"\n",
    "    source = soup.find_all(\"div\", class_=\"profile_in_game_name\")\n",
    "    return source[0].text.strip() if source else \"\""
   ]
  },
  {
   "cell_type": "code",
   "execution_count": null,
   "id": "797a9ccf-9fc2-4732-b8e3-6657071bf900",
   "metadata": {
    "tags": []
   },
   "outputs": [],
   "source": [
    "# User for monitoring\n",
    "steamID = \"M3DJH\"\n",
    "period = 1\n",
    "\n",
    "\n",
    "urlTemplate = \"https://steamcommunity.com/id/{}\"\n",
    "url = urlTemplate.format(steamID)\n",
    "headers = {\n",
    "    \"user-agent\": \"Mozilla/5.0 (Windows NT 10.0; Win64; x64) AppleWebKit/537.36 (KHTML, like Gecko) Chrome/103.0.0.0 Safari/537.36\"\n",
    "}\n",
    "\n",
    "previousStatus = [None for _ in range(4)]\n",
    "\n",
    "while True:\n",
    "    try:\n",
    "        # Request user page\n",
    "        page = requests.get(url, headers=headers, verify=False)  # Do not verify\n",
    "        page.encoding = \"utf-8\"\n",
    "        soup = BeautifulSoup(page.text, \"html.parser\")\n",
    "\n",
    "        if page.status_code is 200:\n",
    "            now = datetime.now().strftime(\"%Y-%m-%d %H:%M\")\n",
    "            total = forteenDaysTotal(soup)\n",
    "            status = statusNow(soup)\n",
    "            game = gameNow(soup)\n",
    "            nowStatus = [total, status, game]\n",
    "\n",
    "            with open(steamID+'_StatusLog.csv','a') as file:\n",
    "                file.write(f'{now},{total},{status},{game}\\n')\n",
    "            if nowStatus != previousStatus:\n",
    "                with open(steamID+'_ChangeLog.csv', 'a') as changeFile:\n",
    "                    changeFile.write(f'{now},{total},{status},{game}\\n')\n",
    "                print(f'[{now}],{total},{status} - {game}')\n",
    "                previousStatus = nowStatus\n",
    "            else:\n",
    "                print(f'[{now}],{total},{status} - {game}')\n",
    "        else:\n",
    "            print(f'Failed to retrieve data for {steamID}. Status Code: {page.status_code}')\n",
    "\n",
    "    except requests.exceptions.RequestException as e:\n",
    "        print(f\"Error occurred for {steamID}: {e}\")\n",
    "    time.sleep(period * 60)"
   ]
  }
 ],
 "metadata": {
  "kernelspec": {
   "display_name": "Python 3 (ipykernel)",
   "language": "python",
   "name": "python3"
  },
  "language_info": {
   "codemirror_mode": {
    "name": "ipython",
    "version": 3
   },
   "file_extension": ".py",
   "mimetype": "text/x-python",
   "name": "python",
   "nbconvert_exporter": "python",
   "pygments_lexer": "ipython3",
   "version": "3.9.13"
  }
 },
 "nbformat": 4,
 "nbformat_minor": 5
}
